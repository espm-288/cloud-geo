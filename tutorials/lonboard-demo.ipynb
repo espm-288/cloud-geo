{
 "cells": [
  {
   "cell_type": "code",
   "execution_count": 1,
   "id": "126f558b-30f3-4eb9-86c2-2ab414976b3b",
   "metadata": {},
   "outputs": [],
   "source": [
    "import geopandas as gpd\n",
    "import palettable.colorbrewer.diverging\n",
    "\n",
    "from lonboard import Map, PathLayer\n",
    "from lonboard.colormap import apply_continuous_cmap"
   ]
  },
  {
   "cell_type": "code",
   "execution_count": 2,
   "id": "41a44070-e5a7-4d55-93e6-6c579232ae6f",
   "metadata": {},
   "outputs": [],
   "source": [
    "filepath = \"/home/rstudio/source.coop/avikertesz/004/eel_flow.geojson\"\n",
    "gdf = gpd.read_file(filepath, engine=\"pyogrio\", use_arrow=True)\n",
    "\n",
    "# select columns we want for our visualization/mouse-over tooltip\n",
    "cols = [\"StreamOrde\", \"StreamCalc\", \"Permanent_Identifier\", \"Slope\", \"MaxElevRaw\", \"geometry\"]\n",
    "gdf = gdf[cols]"
   ]
  },
  {
   "cell_type": "code",
   "execution_count": 3,
   "id": "58bc38df-a858-4f74-a338-180e524a4437",
   "metadata": {},
   "outputs": [
    {
     "name": "stderr",
     "output_type": "stream",
     "text": [
      "/opt/venv/lib/python3.10/site-packages/lonboard/_geoarrow/ops/reproject.py:97: UserWarning: Input being reprojected to EPSG:4326 CRS\n",
      "  warnings.warn(\"Input being reprojected to EPSG:4326 CRS\")\n"
     ]
    },
    {
     "data": {
      "application/vnd.jupyter.widget-view+json": {
       "model_id": "feea183fa90d4866a2fb251efef627dd",
       "version_major": 2,
       "version_minor": 1
      },
      "text/plain": [
       "Map(layers=[PathLayer(get_color=[20, 0, 200], get_width=<pyarrow.lib.FloatArray object at 0x70f67027ba60>\n",
       "[\n",
       "  …"
      ]
     },
     "execution_count": 3,
     "metadata": {},
     "output_type": "execute_result"
    }
   ],
   "source": [
    "layer = PathLayer.from_geopandas(gdf, width_min_pixels=0.5)\n",
    "layer.get_width = gdf[\"StreamOrde\"] * 20\n",
    "layer.get_color = [20, 0, 200]\n",
    "layer.opacity = 0.5\n",
    "map_ = Map(layers=[layer])\n",
    "map_"
   ]
  },
  {
   "cell_type": "code",
   "execution_count": 4,
   "id": "fd0f4bd0-170e-4305-9c70-570a99076973",
   "metadata": {},
   "outputs": [],
   "source": [
    "map_.to_html(\"lonboard.html\")"
   ]
  },
  {
   "cell_type": "markdown",
   "id": "d5c95174-f5e3-44a5-a45d-6d67d1f7372b",
   "metadata": {},
   "source": [
    "[view map](lonboard.html)"
   ]
  }
 ],
 "metadata": {
  "kernelspec": {
   "display_name": "Python 3 (ipykernel)",
   "language": "python",
   "name": "python3"
  },
  "language_info": {
   "codemirror_mode": {
    "name": "ipython",
    "version": 3
   },
   "file_extension": ".py",
   "mimetype": "text/x-python",
   "name": "python",
   "nbconvert_exporter": "python",
   "pygments_lexer": "ipython3",
   "version": "3.10.12"
  }
 },
 "nbformat": 4,
 "nbformat_minor": 5
}
